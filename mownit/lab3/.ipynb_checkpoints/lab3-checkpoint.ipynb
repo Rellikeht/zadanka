{
 "cells": [
  {
   "cell_type": "markdown",
   "id": "40e8c98e-51ae-4d66-9e7a-d28f8df77d2f",
   "metadata": {},
   "source": [
    "##### Michał Hemperek, 23.03.2024\n",
    "# Sprawozdanie 3"
   ]
  },
  {
   "cell_type": "code",
   "execution_count": 1,
   "id": "60a9c98a-d366-4f0c-89e1-2023e04fc8af",
   "metadata": {
    "jupyter": {
     "source_hidden": true
    }
   },
   "outputs": [],
   "source": [
    "using Markdown\n",
    "using Plots"
   ]
  },
  {
   "cell_type": "markdown",
   "id": "1eb18e3e-f46f-4149-99eb-669174fcc7fe",
   "metadata": {},
   "source": [
    "$$ $$\n",
    "### Zadanie 1."
   ]
  },
  {
   "cell_type": "markdown",
   "id": "5eee7a03-b397-44bf-8f41-1304f3e02455",
   "metadata": {
    "editable": true,
    "slideshow": {
     "slide_type": ""
    },
    "tags": []
   },
   "source": [
    "a) Jednomiany \\\n",
    "$W(x) = ax^2 + bx + c$ \\\n",
    "$ax_0^2 + bx_0 + c = y_0$ \\\n",
    "$ax_1^2 + bx_1 + c = y_1$ \\\n",
    "$ax_2^2 + bx_2 + c = y_2$"
   ]
  },
  {
   "cell_type": "code",
   "execution_count": 2,
   "id": "73093309-7f38-4b98-925a-43fbb6f15d41",
   "metadata": {
    "scrolled": true
   },
   "outputs": [
    {
     "data": {
      "text/plain": [
       "3-element Vector{Vector{Float64}}:\n",
       " [-1.0, 2.4]\n",
       " [1.0, 1.8]\n",
       " [2.0, 4.5]"
      ]
     },
     "execution_count": 2,
     "metadata": {},
     "output_type": "execute_result"
    }
   ],
   "source": [
    "points = [[-1,2.4], [1,1.8], [2,4.5]]"
   ]
  },
  {
   "cell_type": "code",
   "execution_count": 3,
   "id": "c00b126a-f1da-4c1b-80b5-d7f0e8547cbd",
   "metadata": {},
   "outputs": [
    {
     "data": {
      "text/plain": [
       "3×3 Matrix{Float64}:\n",
       " 1.0  -1.0  1.0\n",
       " 1.0   1.0  1.0\n",
       " 4.0   2.0  1.0"
      ]
     },
     "execution_count": 3,
     "metadata": {},
     "output_type": "execute_result"
    }
   ],
   "source": [
    "A = reduce(vcat,(x -> [x[1]^2 x[1] 1]).(points))"
   ]
  },
  {
   "cell_type": "code",
   "execution_count": 4,
   "id": "a8498ca6-a4e0-4709-ba9a-b7b20d1d0846",
   "metadata": {},
   "outputs": [
    {
     "data": {
      "text/plain": [
       "3-element Vector{Float64}:\n",
       " 2.4\n",
       " 1.8\n",
       " 4.5"
      ]
     },
     "execution_count": 4,
     "metadata": {},
     "output_type": "execute_result"
    }
   ],
   "source": [
    "B = (i -> points[i][2]).(1:3)"
   ]
  },
  {
   "cell_type": "code",
   "execution_count": 5,
   "id": "af074919-5ea0-49ce-b8ad-d75cc491b05f",
   "metadata": {
    "jupyter": {
     "source_hidden": true
    }
   },
   "outputs": [
    {
     "data": {
      "text/markdown": [
       "Szukany wielomian to: $ W(x) = 1.0 x^2 + ( -0.3 ) x + 1.1 $\n"
      ],
      "text/plain": [
       "  Szukany wielomian to: $ W(x) = 1.0 x^2 + ( -0.3 ) x + 1.1 $"
      ]
     },
     "execution_count": 5,
     "metadata": {},
     "output_type": "execute_result"
    }
   ],
   "source": [
    "a_coeffs = (x -> round(x, digits=12)).(A \\ B)\n",
    "#a_coeffs = A \\ B\n",
    "md\"\"\"\n",
    "Szukany wielomian to:\n",
    "$\n",
    "W(x) = $(a_coeffs[1]) x^2 + ( $(a_coeffs[2]) ) x + $(a_coeffs[3])\n",
    "$\n",
    "\"\"\""
   ]
  },
  {
   "cell_type": "markdown",
   "id": "092cec89-532b-4afe-86d1-dfc4575cc8c6",
   "metadata": {},
   "source": [
    "$$ $$\n",
    "$$ $$"
   ]
  },
  {
   "cell_type": "markdown",
   "id": "cba8f793-cbe6-4349-8ca4-da4d3ba2dffb",
   "metadata": {},
   "source": [
    "b) Wielomiany Lagrange'a\n",
    "\n",
    "$$\n",
    "i = 0:\n",
    "\\ell_0(x) = \\frac{(x - 1)(x - 2)}{(-1 - 1)(-1 - 2)} = \\frac{(x - 1)(x - 2)}{6}\n",
    "$$\n",
    "\n",
    "$$\n",
    "i = 1:\n",
    "\\ell_1(x) = \\frac{(x + 1)(x - 2)}{(1 + 1)(1 - 2)} = \\frac{(x + 1)(x - 2)}{-2}\n",
    "$$\n",
    "\n",
    "$$\n",
    "i = 2:\n",
    "\\ell_2(x) = \\frac{(x + 1)(x - 1)}{(2 + 1)(2 - 1)} = \\frac{(x + 1)(x - 1)}{3}\n",
    "$$\n",
    "\n",
    "$$\n",
    "P(x) = 2.4 \\cdot \\frac{(x - 1)(x - 2)}{6} + 1.8 \\cdot \\frac{(x + 1)(x - 2)}{-2} + 4.5 \\cdot \\frac{(x + 1)(x - 1)}{3}\n",
    "$$\n",
    "\n",
    "$$\n",
    "P(x) = 0.4(x - 1)(x - 2) - 0.9(x + 1)(x - 2) + 1.5(x + 1)(x - 1)\n",
    "$$\n",
    "\n",
    "$$\n",
    "P(x) = 0.4(x^2 - 3x + 2) - 0.9(x^2 - x - 2) + 1.5(x^2 - 1)\n",
    "$$\n",
    "\n",
    "$$\n",
    "P(x) = 0.4x^2 - 1.2x + 0.8 - 0.9x^2 + 0.9x + 1.8 + 1.5x^2 - 1.5\n",
    "$$\n",
    "\n",
    "$$\n",
    "P(x) = (0.4 - 0.9 + 1.5)x^2 + (-1.2 + 0.9)x + (0.8 + 1.8 - 1.5)\n",
    "$$\n",
    "\n",
    "$$\n",
    "P(x) = 1x^2 - 0.3x + 1.1\n",
    "$$"
   ]
  },
  {
   "cell_type": "markdown",
   "id": "06a12e85-1566-4a97-9cbf-61d185dbd909",
   "metadata": {},
   "source": [
    " $$ $$"
   ]
  },
  {
   "cell_type": "markdown",
   "id": "b684b4d0-7e3d-4afe-bb8a-5b99a8d3430c",
   "metadata": {},
   "source": [
    "c) Wielomiany Newton'a\n",
    "$$\n",
    "f[x_i, x_{i+1}, \\dots, x_{i+k}] = \\frac{f[x_{i+1}, x_{i+2}, \\dots, x_{i+k}] - f[x_i, x_{i+1}, \\dots, x_{i+k-1}]}{x_{i+k} - x_i}\n",
    "$$\n",
    "\n",
    "Gdzie:\n",
    "- $ (f[x_i, x_{i+1}, \\dots, x_{i+k}]) $ to różnica dzielona,\n",
    "- $ (x_i, x_{i+1}, \\dots, x_{i+k}) $ to węzły interpolacji.\n",
    "\n",
    "Obliczmy różnice dzielone dla naszych danych:\n",
    "\n",
    "1. Różnice dzielone pierwszego rzędu:\n",
    "\n",
    "$$\n",
    "f[x_0, x_1] = \\frac{1.8 - 2.4}{1 - (-1)} = -0.3\n",
    "$$\n",
    "\n",
    "$$\n",
    "f[x_1, x_2] = \\frac{4.5 - 1.8}{2 - 1} = 2.7\n",
    "$$\n",
    "\n",
    "2. Różnice dzielone drugiego rzędu:\n",
    "\n",
    "$$\n",
    "f[x_0, x_1, x_2] = \\frac{2.7 - (-0.3)}{2 - (-1)} = 1\n",
    "$$\n",
    "\n",
    "Teraz możemy skonstruować wielomian Newtona korzystając z tych różnic dzielonych. Wielomian Newtona ma postać:\n",
    "\n",
    "$$\n",
    "P(x) = f[x_0] + (x - x_0) f[x_0, x_1] + (x - x_0)(x - x_1) f[x_0, x_1, x_2] + \\dots\n",
    "$$\n",
    "\n",
    "W naszym przypadku:\n",
    "\n",
    "$$\n",
    "P(x) = 2.4 + (x + 1)\\cdot(-0.3) + (x + 1)(x - 1)\\cdot(1)\n",
    "$$\n",
    "\n",
    "Po uproszczeniu:\n",
    "\n",
    "$$\n",
    "P(x) = 2.4 - 0.3(x + 1) + (x^2 - 1)\n",
    "$$\n",
    "\n",
    "$$\n",
    "P(x) = 2.4 - 0.3x - 0.3 + x^2 - 1\n",
    "$$\n",
    "\n",
    "$$\n",
    "P(x) = x^2 - 0.3x + 1.1\n",
    "$$"
   ]
  },
  {
   "cell_type": "markdown",
   "id": "ffe0d123-ee5b-4a40-bb27-f3041981bd46",
   "metadata": {},
   "source": [
    " \\\n",
    " $ $\n",
    " Wszystkie 3 metody dają ten sam wielomian:"
   ]
  },
  {
   "cell_type": "code",
   "execution_count": 6,
   "id": "0ab3ee3d-63ad-47a7-9301-5b52b6a6c132",
   "metadata": {},
   "outputs": [
    {
     "data": {
      "image/png": "[encoded data removed]",
      "image/svg+xml": [
       "<?xml version=\"1.0\" encoding=\"utf-8\"?>\n",
       "<svg xmlns=\"http://www.w3.org/2000/svg\" xmlns:xlink=\"http://www.w3.org/1999/xlink\" width=\"600\" height=\"400\" viewBox=\"0 0 2400 1600\">\n",
       "<defs>\n",
       "  <clipPath id=\"clip320\">\n",
       "    <rect x=\"0\" y=\"0\" width=\"2400\" height=\"1600\"/>\n",
       "  </clipPath>\n",
       "</defs>\n",
       "<path clip-path=\"url(#clip320)\" d=\"M0 1600 L2400 1600 L2400 0 L0 0  Z\" fill=\"#ffffff\" fill-rule=\"evenodd\" fill-opacity=\"1\"/>\n",
       "<defs>\n",
       "  <clipPath id=\"clip321\">\n",
       "    <rect x=\"480\" y=\"0\" width=\"1681\" height=\"1600\"/>\n",
       "  </clipPath>\n",
       "</defs>\n",
       "<path clip-path=\"url(#clip320)\" d=\"M112.177 1486.45 L2352.76 1486.45 L2352.76 47.2441 L112.177 47.2441  Z\" fill=\"#ffffff\" fill-rule=\"evenodd\" fill-opacity=\"1\"/>\n",
       "<defs>\n",
       "  <clipPath id=\"clip322\">\n",
       "    <rect x=\"112\" y=\"47\" width=\"2242\" height=\"1440\"/>\n",
       "  </clipPath>\n",
       "</defs>\n",
       "<polyline clip-path=\"url(#clip322)\" style=\"stroke:#000000; stroke-linecap:round; stroke-linejoin:round; stroke-width:2; stroke-opacity:0.1; fill:none\" points=\"175.59,1486.45 175.59,47.2441 \"/>\n",
       "<polyline clip-path=\"url(#clip322)\" style=\"stroke:#000000; stroke-linecap:round; stroke-linejoin:round; stroke-width:2; stroke-opacity:0.1; fill:none\" points=\"880.174,1486.45 880.174,47.2441 \"/>\n",
       "<polyline clip-path=\"url(#clip322)\" style=\"stroke:#000000; stroke-linecap:round; stroke-linejoin:round; stroke-width:2; stroke-opacity:0.1; fill:none\" points=\"1584.76,1486.45 1584.76,47.2441 \"/>\n",
       "<polyline clip-path=\"url(#clip322)\" style=\"stroke:#000000; stroke-linecap:round; stroke-linejoin:round; stroke-width:2; stroke-opacity:0.1; fill:none\" points=\"2289.34,1486.45 2289.34,47.2441 \"/>\n",
       "<polyline clip-path=\"url(#clip320)\" style=\"stroke:#000000; stroke-linecap:round; stroke-linejoin:round; stroke-width:4; stroke-opacity:1; fill:none\" points=\"112.177,1486.45 2352.76,1486.45 \"/>\n",
       "<polyline clip-path=\"url(#clip320)\" style=\"stroke:#000000; stroke-linecap:round; stroke-linejoin:round; stroke-width:4; stroke-opacity:1; fill:none\" points=\"175.59,1486.45 175.59,1467.55 \"/>\n",
       "<polyline clip-path=\"url(#clip320)\" style=\"stroke:#000000; stroke-linecap:round; stroke-linejoin:round; stroke-width:4; stroke-opacity:1; fill:none\" points=\"880.174,1486.45 880.174,1467.55 \"/>\n",
       "<polyline clip-path=\"url(#clip320)\" style=\"stroke:#000000; stroke-linecap:round; stroke-linejoin:round; stroke-width:4; stroke-opacity:1; fill:none\" points=\"1584.76,1486.45 1584.76,1467.55 \"/>\n",
       "<polyline clip-path=\"url(#clip320)\" style=\"stroke:#000000; stroke-linecap:round; stroke-linejoin:round; stroke-width:4; stroke-opacity:1; fill:none\" points=\"2289.34,1486.45 2289.34,1467.55 \"/>\n",
       "<path clip-path=\"url(#clip320)\" d=\"M145.347 1532.02 L175.023 1532.02 L175.023 1535.95 L145.347 1535.95 L145.347 1532.02 Z\" fill=\"#000000\" fill-rule=\"nonzero\" fill-opacity=\"1\" /><path clip-path=\"url(#clip320)\" d=\"M185.925 1544.91 L193.564 1544.91 L193.564 1518.55 L185.254 1520.21 L185.254 1515.95 L193.518 1514.29 L198.194 1514.29 L198.194 1544.91 L205.833 1544.91 L205.833 1548.85 L185.925 1548.85 L185.925 1544.91 Z\" fill=\"#000000\" fill-rule=\"nonzero\" fill-opacity=\"1\" /><path clip-path=\"url(#clip320)\" d=\"M880.174 1517.37 Q876.563 1517.37 874.735 1520.93 Q872.929 1524.47 872.929 1531.6 Q872.929 1538.71 874.735 1542.27 Q876.563 1545.82 880.174 1545.82 Q883.809 1545.82 885.614 1542.27 Q887.443 1538.71 887.443 1531.6 Q887.443 1524.47 885.614 1520.93 Q883.809 1517.37 880.174 1517.37 M880.174 1513.66 Q885.984 1513.66 889.04 1518.27 Q892.119 1522.85 892.119 1531.6 Q892.119 1540.33 889.04 1544.94 Q885.984 1549.52 880.174 1549.52 Q874.364 1549.52 871.285 1544.94 Q868.23 1540.33 868.23 1531.6 Q868.23 1522.85 871.285 1518.27 Q874.364 1513.66 880.174 1513.66 Z\" fill=\"#000000\" fill-rule=\"nonzero\" fill-opacity=\"1\" /><path clip-path=\"url(#clip320)\" d=\"M1575.14 1544.91 L1582.78 1544.91 L1582.78 1518.55 L1574.47 1520.21 L1574.47 1515.95 L1582.73 1514.29 L1587.41 1514.29 L1587.41 1544.91 L1595.05 1544.91 L1595.05 1548.85 L1575.14 1548.85 L1575.14 1544.91 Z\" fill=\"#000000\" fill-rule=\"nonzero\" fill-opacity=\"1\" /><path clip-path=\"url(#clip320)\" d=\"M2284 1544.91 L2300.32 1544.91 L2300.32 1548.85 L2278.37 1548.85 L2278.37 1544.91 Q2281.03 1542.16 2285.62 1537.53 Q2290.22 1532.88 2291.4 1531.53 Q2293.65 1529.01 2294.53 1527.27 Q2295.43 1525.51 2295.43 1523.82 Q2295.43 1521.07 2293.49 1519.33 Q2291.57 1517.6 2288.46 1517.6 Q2286.26 1517.6 2283.81 1518.36 Q2281.38 1519.13 2278.6 1520.68 L2278.6 1515.95 Q2281.43 1514.82 2283.88 1514.24 Q2286.33 1513.66 2288.37 1513.66 Q2293.74 1513.66 2296.94 1516.35 Q2300.13 1519.03 2300.13 1523.52 Q2300.13 1525.65 2299.32 1527.57 Q2298.53 1529.47 2296.43 1532.07 Q2295.85 1532.74 2292.75 1535.95 Q2289.64 1539.15 2284 1544.91 Z\" fill=\"#000000\" fill-rule=\"nonzero\" fill-opacity=\"1\" /><polyline clip-path=\"url(#clip322)\" style=\"stroke:#000000; stroke-linecap:round; stroke-linejoin:round; stroke-width:2; stroke-opacity:0.1; fill:none\" points=\"112.177,1476.49 2352.76,1476.49 \"/>\n",
       "<polyline clip-path=\"url(#clip322)\" style=\"stroke:#000000; stroke-linecap:round; stroke-linejoin:round; stroke-width:2; stroke-opacity:0.1; fill:none\" points=\"112.177,1079.78 2352.76,1079.78 \"/>\n",
       "<polyline clip-path=\"url(#clip322)\" style=\"stroke:#000000; stroke-linecap:round; stroke-linejoin:round; stroke-width:2; stroke-opacity:0.1; fill:none\" points=\"112.177,683.056 2352.76,683.056 \"/>\n",
       "<polyline clip-path=\"url(#clip322)\" style=\"stroke:#000000; stroke-linecap:round; stroke-linejoin:round; stroke-width:2; stroke-opacity:0.1; fill:none\" points=\"112.177,286.336 2352.76,286.336 \"/>\n",
       "<polyline clip-path=\"url(#clip320)\" style=\"stroke:#000000; stroke-linecap:round; stroke-linejoin:round; stroke-width:4; stroke-opacity:1; fill:none\" points=\"112.177,1486.45 112.177,47.2441 \"/>\n",
       "<polyline clip-path=\"url(#clip320)\" style=\"stroke:#000000; stroke-linecap:round; stroke-linejoin:round; stroke-width:4; stroke-opacity:1; fill:none\" points=\"112.177,1476.49 131.075,1476.49 \"/>\n",
       "<polyline clip-path=\"url(#clip320)\" style=\"stroke:#000000; stroke-linecap:round; stroke-linejoin:round; stroke-width:4; stroke-opacity:1; fill:none\" points=\"112.177,1079.78 131.075,1079.78 \"/>\n",
       "<polyline clip-path=\"url(#clip320)\" style=\"stroke:#000000; stroke-linecap:round; stroke-linejoin:round; stroke-width:4; stroke-opacity:1; fill:none\" points=\"112.177,683.056 131.075,683.056 \"/>\n",
       "<polyline clip-path=\"url(#clip320)\" style=\"stroke:#000000; stroke-linecap:round; stroke-linejoin:round; stroke-width:4; stroke-opacity:1; fill:none\" points=\"112.177,286.336 131.075,286.336 \"/>\n",
       "<path clip-path=\"url(#clip320)\" d=\"M56.2699 1489.84 L63.9087 1489.84 L63.9087 1463.47 L55.5986 1465.14 L55.5986 1460.88 L63.8624 1459.21 L68.5383 1459.21 L68.5383 1489.84 L76.1772 1489.84 L76.1772 1493.77 L56.2699 1493.77 L56.2699 1489.84 Z\" fill=\"#000000\" fill-rule=\"nonzero\" fill-opacity=\"1\" /><path clip-path=\"url(#clip320)\" d=\"M59.8578 1093.12 L76.1772 1093.12 L76.1772 1097.06 L54.2328 1097.06 L54.2328 1093.12 Q56.8949 1090.37 61.4782 1085.74 Q66.0846 1081.08 67.2652 1079.74 Q69.5105 1077.22 70.3902 1075.48 Q71.2929 1073.72 71.2929 1072.03 Q71.2929 1069.28 69.3485 1067.54 Q67.4272 1065.81 64.3254 1065.81 Q62.1263 1065.81 59.6726 1066.57 Q57.2421 1067.33 54.4643 1068.88 L54.4643 1064.16 Q57.2884 1063.03 59.7421 1062.45 Q62.1958 1061.87 64.2328 1061.87 Q69.6031 1061.87 72.7976 1064.56 Q75.992 1067.24 75.992 1071.73 Q75.992 1073.86 75.1818 1075.78 Q74.3948 1077.68 72.2883 1080.27 Q71.7096 1080.94 68.6078 1084.16 Q65.5059 1087.36 59.8578 1093.12 Z\" fill=\"#000000\" fill-rule=\"nonzero\" fill-opacity=\"1\" /><path clip-path=\"url(#clip320)\" d=\"M69.0476 681.701 Q72.404 682.419 74.279 684.688 Q76.1772 686.956 76.1772 690.289 Q76.1772 695.405 72.6587 698.206 Q69.1402 701.007 62.6587 701.007 Q60.4828 701.007 58.168 700.567 Q55.8764 700.15 53.4227 699.294 L53.4227 694.78 Q55.3671 695.914 57.6819 696.493 Q59.9967 697.072 62.5198 697.072 Q66.918 697.072 69.2096 695.336 Q71.5244 693.6 71.5244 690.289 Q71.5244 687.234 69.3717 685.521 Q67.242 683.785 63.4226 683.785 L59.3949 683.785 L59.3949 679.942 L63.6078 679.942 Q67.0569 679.942 68.8855 678.577 Q70.7142 677.188 70.7142 674.595 Q70.7142 671.933 68.8161 670.521 Q66.9411 669.086 63.4226 669.086 Q61.5013 669.086 59.3023 669.502 Q57.1032 669.919 54.4643 670.799 L54.4643 666.632 Q57.1264 665.891 59.4412 665.521 Q61.7791 665.151 63.8393 665.151 Q69.1633 665.151 72.2652 667.581 Q75.367 669.989 75.367 674.109 Q75.367 676.979 73.7235 678.97 Q72.08 680.938 69.0476 681.701 Z\" fill=\"#000000\" fill-rule=\"nonzero\" fill-opacity=\"1\" /><path clip-path=\"url(#clip320)\" d=\"M66.5939 273.13 L54.7884 291.579 L66.5939 291.579 L66.5939 273.13 M65.367 269.056 L71.2466 269.056 L71.2466 291.579 L76.1772 291.579 L76.1772 295.468 L71.2466 295.468 L71.2466 303.616 L66.5939 303.616 L66.5939 295.468 L50.9921 295.468 L50.9921 290.954 L65.367 269.056 Z\" fill=\"#000000\" fill-rule=\"nonzero\" fill-opacity=\"1\" /><circle clip-path=\"url(#clip322)\" cx=\"175.59\" cy=\"921.087\" r=\"14.4\" fill=\"#009af9\" fill-rule=\"evenodd\" fill-opacity=\"1\" stroke=\"#000000\" stroke-opacity=\"1\" stroke-width=\"3.2\"/>\n",
       "<circle clip-path=\"url(#clip322)\" cx=\"1584.76\" cy=\"1159.12\" r=\"14.4\" fill=\"#009af9\" fill-rule=\"evenodd\" fill-opacity=\"1\" stroke=\"#000000\" stroke-opacity=\"1\" stroke-width=\"3.2\"/>\n",
       "<circle clip-path=\"url(#clip322)\" cx=\"2289.34\" cy=\"87.9763\" r=\"14.4\" fill=\"#009af9\" fill-rule=\"evenodd\" fill-opacity=\"1\" stroke=\"#000000\" stroke-opacity=\"1\" stroke-width=\"3.2\"/>\n",
       "<polyline clip-path=\"url(#clip322)\" style=\"stroke:#e26f46; stroke-linecap:round; stroke-linejoin:round; stroke-width:4; stroke-opacity:1; fill:none\" points=\"175.59,921.087 179.03,925.533 182.471,929.96 185.911,934.369 189.351,938.758 221.163,978.446 252.975,1016.52 284.786,1052.97 316.598,1087.81 354.833,1127.54 393.068,1164.93 425.395,1194.72 457.722,1222.85 492.839,1251.5 527.955,1278.19 560.329,1301.04 592.704,1322.22 627.412,1343.07 662.121,1361.99 702.334,1381.51 742.547,1398.44 778.284,1411.32 814.021,1422.15 845.359,1429.97 876.697,1436.23 910.864,1441.25 945.031,1444.42 979.4,1445.72 1013.77,1445.13 1051.77,1442.28 1089.77,1437.12 1125.93,1430.07 1162.08,1420.93 1199.68,1409.22 1237.27,1395.24 1268.92,1381.72 1300.56,1366.61 1339.2,1345.98 1377.84,1322.97 1413.23,1299.79 1448.62,1274.62 1481.31,1249.59 1514,1222.85 1547.11,1194.02 1580.23,1163.44 1617.34,1127.09 1654.45,1088.53 1688.07,1051.7 1721.7,1013.05 1760.2,966.588 1798.7,917.754 1834.35,870.426 1870,821.067 1905.15,770.416 1940.29,717.791 1974.42,664.808 2008.54,609.964 2043.52,551.81 2078.5,491.7 2116.83,423.598 2155.15,353.148 2182.99,300.506 2210.83,246.625 2238.66,191.506 2266.5,135.149 2272.21,123.434 2277.92,111.667 2283.63,99.8476 2289.34,87.9763 \"/>\n",
       "<path clip-path=\"url(#clip320)\" d=\"M186.863 250.738 L463.351 250.738 L463.351 95.2176 L186.863 95.2176  Z\" fill=\"#ffffff\" fill-rule=\"evenodd\" fill-opacity=\"1\"/>\n",
       "<polyline clip-path=\"url(#clip320)\" style=\"stroke:#000000; stroke-linecap:round; stroke-linejoin:round; stroke-width:4; stroke-opacity:1; fill:none\" points=\"186.863,250.738 463.351,250.738 463.351,95.2176 186.863,95.2176 186.863,250.738 \"/>\n",
       "<circle clip-path=\"url(#clip320)\" cx=\"286.444\" cy=\"147.058\" r=\"20.48\" fill=\"#009af9\" fill-rule=\"evenodd\" fill-opacity=\"1\" stroke=\"#000000\" stroke-opacity=\"1\" stroke-width=\"4.55111\"/>\n",
       "<path clip-path=\"url(#clip320)\" d=\"M399.868 166.745 Q398.063 171.375 396.35 172.787 Q394.637 174.199 391.766 174.199 L388.364 174.199 L388.364 170.634 L390.864 170.634 Q392.623 170.634 393.595 169.8 Q394.567 168.967 395.748 165.865 L396.512 163.921 L386.026 138.412 L390.54 138.412 L398.641 158.689 L406.743 138.412 L411.257 138.412 L399.868 166.745 Z\" fill=\"#000000\" fill-rule=\"nonzero\" fill-opacity=\"1\" /><path clip-path=\"url(#clip320)\" d=\"M418.549 160.402 L426.188 160.402 L426.188 134.037 L417.877 135.703 L417.877 131.444 L426.141 129.778 L430.817 129.778 L430.817 160.402 L438.456 160.402 L438.456 164.338 L418.549 164.338 L418.549 160.402 Z\" fill=\"#000000\" fill-rule=\"nonzero\" fill-opacity=\"1\" /><polyline clip-path=\"url(#clip320)\" style=\"stroke:#e26f46; stroke-linecap:round; stroke-linejoin:round; stroke-width:4; stroke-opacity:1; fill:none\" points=\"211.758,198.898 361.13,198.898 \"/>\n",
       "<path clip-path=\"url(#clip320)\" d=\"M399.868 218.585 Q398.063 223.215 396.35 224.627 Q394.637 226.039 391.766 226.039 L388.364 226.039 L388.364 222.474 L390.864 222.474 Q392.623 222.474 393.595 221.64 Q394.567 220.807 395.748 217.705 L396.512 215.761 L386.026 190.252 L390.54 190.252 L398.641 210.529 L406.743 190.252 L411.257 190.252 L399.868 218.585 Z\" fill=\"#000000\" fill-rule=\"nonzero\" fill-opacity=\"1\" /><path clip-path=\"url(#clip320)\" d=\"M421.766 212.242 L438.086 212.242 L438.086 216.178 L416.141 216.178 L416.141 212.242 Q418.803 209.488 423.387 204.858 Q427.993 200.205 429.174 198.863 Q431.419 196.34 432.299 194.604 Q433.201 192.844 433.201 191.155 Q433.201 188.4 431.257 186.664 Q429.336 184.928 426.234 184.928 Q424.035 184.928 421.581 185.692 Q419.151 186.455 416.373 188.006 L416.373 183.284 Q419.197 182.15 421.65 181.571 Q424.104 180.993 426.141 180.993 Q431.512 180.993 434.706 183.678 Q437.9 186.363 437.9 190.854 Q437.9 192.983 437.09 194.905 Q436.303 196.803 434.197 199.395 Q433.618 200.067 430.516 203.284 Q427.414 206.479 421.766 212.242 Z\" fill=\"#000000\" fill-rule=\"nonzero\" fill-opacity=\"1\" /></svg>\n"
      ],
      "text/html": [
       "<?xml version=\"1.0\" encoding=\"utf-8\"?>\n",
       "<svg xmlns=\"http://www.w3.org/2000/svg\" xmlns:xlink=\"http://www.w3.org/1999/xlink\" width=\"600\" height=\"400\" viewBox=\"0 0 2400 1600\">\n",
       "<defs>\n",
       "  <clipPath id=\"clip370\">\n",
       "    <rect x=\"0\" y=\"0\" width=\"2400\" height=\"1600\"/>\n",
       "  </clipPath>\n",
       "</defs>\n",
       "<path clip-path=\"url(#clip370)\" d=\"M0 1600 L2400 1600 L2400 0 L0 0  Z\" fill=\"#ffffff\" fill-rule=\"evenodd\" fill-opacity=\"1\"/>\n",
       "<defs>\n",
       "  <clipPath id=\"clip371\">\n",
       "    <rect x=\"480\" y=\"0\" width=\"1681\" height=\"1600\"/>\n",
       "  </clipPath>\n",
       "</defs>\n",
       "<path clip-path=\"url(#clip370)\" d=\"M112.177 1486.45 L2352.76 1486.45 L2352.76 47.2441 L112.177 47.2441  Z\" fill=\"#ffffff\" fill-rule=\"evenodd\" fill-opacity=\"1\"/>\n",
       "<defs>\n",
       "  <clipPath id=\"clip372\">\n",
       "    <rect x=\"112\" y=\"47\" width=\"2242\" height=\"1440\"/>\n",
       "  </clipPath>\n",
       "</defs>\n",
       "<polyline clip-path=\"url(#clip372)\" style=\"stroke:#000000; stroke-linecap:round; stroke-linejoin:round; stroke-width:2; stroke-opacity:0.1; fill:none\" points=\"175.59,1486.45 175.59,47.2441 \"/>\n",
       "<polyline clip-path=\"url(#clip372)\" style=\"stroke:#000000; stroke-linecap:round; stroke-linejoin:round; stroke-width:2; stroke-opacity:0.1; fill:none\" points=\"880.174,1486.45 880.174,47.2441 \"/>\n",
       "<polyline clip-path=\"url(#clip372)\" style=\"stroke:#000000; stroke-linecap:round; stroke-linejoin:round; stroke-width:2; stroke-opacity:0.1; fill:none\" points=\"1584.76,1486.45 1584.76,47.2441 \"/>\n",
       "<polyline clip-path=\"url(#clip372)\" style=\"stroke:#000000; stroke-linecap:round; stroke-linejoin:round; stroke-width:2; stroke-opacity:0.1; fill:none\" points=\"2289.34,1486.45 2289.34,47.2441 \"/>\n",
       "<polyline clip-path=\"url(#clip370)\" style=\"stroke:#000000; stroke-linecap:round; stroke-linejoin:round; stroke-width:4; stroke-opacity:1; fill:none\" points=\"112.177,1486.45 2352.76,1486.45 \"/>\n",
       "<polyline clip-path=\"url(#clip370)\" style=\"stroke:#000000; stroke-linecap:round; stroke-linejoin:round; stroke-width:4; stroke-opacity:1; fill:none\" points=\"175.59,1486.45 175.59,1467.55 \"/>\n",
       "<polyline clip-path=\"url(#clip370)\" style=\"stroke:#000000; stroke-linecap:round; stroke-linejoin:round; stroke-width:4; stroke-opacity:1; fill:none\" points=\"880.174,1486.45 880.174,1467.55 \"/>\n",
       "<polyline clip-path=\"url(#clip370)\" style=\"stroke:#000000; stroke-linecap:round; stroke-linejoin:round; stroke-width:4; stroke-opacity:1; fill:none\" points=\"1584.76,1486.45 1584.76,1467.55 \"/>\n",
       "<polyline clip-path=\"url(#clip370)\" style=\"stroke:#000000; stroke-linecap:round; stroke-linejoin:round; stroke-width:4; stroke-opacity:1; fill:none\" points=\"2289.34,1486.45 2289.34,1467.55 \"/>\n",
       "<path clip-path=\"url(#clip370)\" d=\"M145.347 1532.02 L175.023 1532.02 L175.023 1535.95 L145.347 1535.95 L145.347 1532.02 Z\" fill=\"#000000\" fill-rule=\"nonzero\" fill-opacity=\"1\" /><path clip-path=\"url(#clip370)\" d=\"M185.925 1544.91 L193.564 1544.91 L193.564 1518.55 L185.254 1520.21 L185.254 1515.95 L193.518 1514.29 L198.194 1514.29 L198.194 1544.91 L205.833 1544.91 L205.833 1548.85 L185.925 1548.85 L185.925 1544.91 Z\" fill=\"#000000\" fill-rule=\"nonzero\" fill-opacity=\"1\" /><path clip-path=\"url(#clip370)\" d=\"M880.174 1517.37 Q876.563 1517.37 874.735 1520.93 Q872.929 1524.47 872.929 1531.6 Q872.929 1538.71 874.735 1542.27 Q876.563 1545.82 880.174 1545.82 Q883.809 1545.82 885.614 1542.27 Q887.443 1538.71 887.443 1531.6 Q887.443 1524.47 885.614 1520.93 Q883.809 1517.37 880.174 1517.37 M880.174 1513.66 Q885.984 1513.66 889.04 1518.27 Q892.119 1522.85 892.119 1531.6 Q892.119 1540.33 889.04 1544.94 Q885.984 1549.52 880.174 1549.52 Q874.364 1549.52 871.285 1544.94 Q868.23 1540.33 868.23 1531.6 Q868.23 1522.85 871.285 1518.27 Q874.364 1513.66 880.174 1513.66 Z\" fill=\"#000000\" fill-rule=\"nonzero\" fill-opacity=\"1\" /><path clip-path=\"url(#clip370)\" d=\"M1575.14 1544.91 L1582.78 1544.91 L1582.78 1518.55 L1574.47 1520.21 L1574.47 1515.95 L1582.73 1514.29 L1587.41 1514.29 L1587.41 1544.91 L1595.05 1544.91 L1595.05 1548.85 L1575.14 1548.85 L1575.14 1544.91 Z\" fill=\"#000000\" fill-rule=\"nonzero\" fill-opacity=\"1\" /><path clip-path=\"url(#clip370)\" d=\"M2284 1544.91 L2300.32 1544.91 L2300.32 1548.85 L2278.37 1548.85 L2278.37 1544.91 Q2281.03 1542.16 2285.62 1537.53 Q2290.22 1532.88 2291.4 1531.53 Q2293.65 1529.01 2294.53 1527.27 Q2295.43 1525.51 2295.43 1523.82 Q2295.43 1521.07 2293.49 1519.33 Q2291.57 1517.6 2288.46 1517.6 Q2286.26 1517.6 2283.81 1518.36 Q2281.38 1519.13 2278.6 1520.68 L2278.6 1515.95 Q2281.43 1514.82 2283.88 1514.24 Q2286.33 1513.66 2288.37 1513.66 Q2293.74 1513.66 2296.94 1516.35 Q2300.13 1519.03 2300.13 1523.52 Q2300.13 1525.65 2299.32 1527.57 Q2298.53 1529.47 2296.43 1532.07 Q2295.85 1532.74 2292.75 1535.95 Q2289.64 1539.15 2284 1544.91 Z\" fill=\"#000000\" fill-rule=\"nonzero\" fill-opacity=\"1\" /><polyline clip-path=\"url(#clip372)\" style=\"stroke:#000000; stroke-linecap:round; stroke-linejoin:round; stroke-width:2; stroke-opacity:0.1; fill:none\" points=\"112.177,1476.49 2352.76,1476.49 \"/>\n",
       "<polyline clip-path=\"url(#clip372)\" style=\"stroke:#000000; stroke-linecap:round; stroke-linejoin:round; stroke-width:2; stroke-opacity:0.1; fill:none\" points=\"112.177,1079.78 2352.76,1079.78 \"/>\n",
       "<polyline clip-path=\"url(#clip372)\" style=\"stroke:#000000; stroke-linecap:round; stroke-linejoin:round; stroke-width:2; stroke-opacity:0.1; fill:none\" points=\"112.177,683.056 2352.76,683.056 \"/>\n",
       "<polyline clip-path=\"url(#clip372)\" style=\"stroke:#000000; stroke-linecap:round; stroke-linejoin:round; stroke-width:2; stroke-opacity:0.1; fill:none\" points=\"112.177,286.336 2352.76,286.336 \"/>\n",
       "<polyline clip-path=\"url(#clip370)\" style=\"stroke:#000000; stroke-linecap:round; stroke-linejoin:round; stroke-width:4; stroke-opacity:1; fill:none\" points=\"112.177,1486.45 112.177,47.2441 \"/>\n",
       "<polyline clip-path=\"url(#clip370)\" style=\"stroke:#000000; stroke-linecap:round; stroke-linejoin:round; stroke-width:4; stroke-opacity:1; fill:none\" points=\"112.177,1476.49 131.075,1476.49 \"/>\n",
       "<polyline clip-path=\"url(#clip370)\" style=\"stroke:#000000; stroke-linecap:round; stroke-linejoin:round; stroke-width:4; stroke-opacity:1; fill:none\" points=\"112.177,1079.78 131.075,1079.78 \"/>\n",
       "<polyline clip-path=\"url(#clip370)\" style=\"stroke:#000000; stroke-linecap:round; stroke-linejoin:round; stroke-width:4; stroke-opacity:1; fill:none\" points=\"112.177,683.056 131.075,683.056 \"/>\n",
       "<polyline clip-path=\"url(#clip370)\" style=\"stroke:#000000; stroke-linecap:round; stroke-linejoin:round; stroke-width:4; stroke-opacity:1; fill:none\" points=\"112.177,286.336 131.075,286.336 \"/>\n",
       "<path clip-path=\"url(#clip370)\" d=\"M56.2699 1489.84 L63.9087 1489.84 L63.9087 1463.47 L55.5986 1465.14 L55.5986 1460.88 L63.8624 1459.21 L68.5383 1459.21 L68.5383 1489.84 L76.1772 1489.84 L76.1772 1493.77 L56.2699 1493.77 L56.2699 1489.84 Z\" fill=\"#000000\" fill-rule=\"nonzero\" fill-opacity=\"1\" /><path clip-path=\"url(#clip370)\" d=\"M59.8578 1093.12 L76.1772 1093.12 L76.1772 1097.06 L54.2328 1097.06 L54.2328 1093.12 Q56.8949 1090.37 61.4782 1085.74 Q66.0846 1081.08 67.2652 1079.74 Q69.5105 1077.22 70.3902 1075.48 Q71.2929 1073.72 71.2929 1072.03 Q71.2929 1069.28 69.3485 1067.54 Q67.4272 1065.81 64.3254 1065.81 Q62.1263 1065.81 59.6726 1066.57 Q57.2421 1067.33 54.4643 1068.88 L54.4643 1064.16 Q57.2884 1063.03 59.7421 1062.45 Q62.1958 1061.87 64.2328 1061.87 Q69.6031 1061.87 72.7976 1064.56 Q75.992 1067.24 75.992 1071.73 Q75.992 1073.86 75.1818 1075.78 Q74.3948 1077.68 72.2883 1080.27 Q71.7096 1080.94 68.6078 1084.16 Q65.5059 1087.36 59.8578 1093.12 Z\" fill=\"#000000\" fill-rule=\"nonzero\" fill-opacity=\"1\" /><path clip-path=\"url(#clip370)\" d=\"M69.0476 681.701 Q72.404 682.419 74.279 684.688 Q76.1772 686.956 76.1772 690.289 Q76.1772 695.405 72.6587 698.206 Q69.1402 701.007 62.6587 701.007 Q60.4828 701.007 58.168 700.567 Q55.8764 700.15 53.4227 699.294 L53.4227 694.78 Q55.3671 695.914 57.6819 696.493 Q59.9967 697.072 62.5198 697.072 Q66.918 697.072 69.2096 695.336 Q71.5244 693.6 71.5244 690.289 Q71.5244 687.234 69.3717 685.521 Q67.242 683.785 63.4226 683.785 L59.3949 683.785 L59.3949 679.942 L63.6078 679.942 Q67.0569 679.942 68.8855 678.577 Q70.7142 677.188 70.7142 674.595 Q70.7142 671.933 68.8161 670.521 Q66.9411 669.086 63.4226 669.086 Q61.5013 669.086 59.3023 669.502 Q57.1032 669.919 54.4643 670.799 L54.4643 666.632 Q57.1264 665.891 59.4412 665.521 Q61.7791 665.151 63.8393 665.151 Q69.1633 665.151 72.2652 667.581 Q75.367 669.989 75.367 674.109 Q75.367 676.979 73.7235 678.97 Q72.08 680.938 69.0476 681.701 Z\" fill=\"#000000\" fill-rule=\"nonzero\" fill-opacity=\"1\" /><path clip-path=\"url(#clip370)\" d=\"M66.5939 273.13 L54.7884 291.579 L66.5939 291.579 L66.5939 273.13 M65.367 269.056 L71.2466 269.056 L71.2466 291.579 L76.1772 291.579 L76.1772 295.468 L71.2466 295.468 L71.2466 303.616 L66.5939 303.616 L66.5939 295.468 L50.9921 295.468 L50.9921 290.954 L65.367 269.056 Z\" fill=\"#000000\" fill-rule=\"nonzero\" fill-opacity=\"1\" /><circle clip-path=\"url(#clip372)\" cx=\"175.59\" cy=\"921.087\" r=\"14.4\" fill=\"#009af9\" fill-rule=\"evenodd\" fill-opacity=\"1\" stroke=\"#000000\" stroke-opacity=\"1\" stroke-width=\"3.2\"/>\n",
       "<circle clip-path=\"url(#clip372)\" cx=\"1584.76\" cy=\"1159.12\" r=\"14.4\" fill=\"#009af9\" fill-rule=\"evenodd\" fill-opacity=\"1\" stroke=\"#000000\" stroke-opacity=\"1\" stroke-width=\"3.2\"/>\n",
       "<circle clip-path=\"url(#clip372)\" cx=\"2289.34\" cy=\"87.9763\" r=\"14.4\" fill=\"#009af9\" fill-rule=\"evenodd\" fill-opacity=\"1\" stroke=\"#000000\" stroke-opacity=\"1\" stroke-width=\"3.2\"/>\n",
       "<polyline clip-path=\"url(#clip372)\" style=\"stroke:#e26f46; stroke-linecap:round; stroke-linejoin:round; stroke-width:4; stroke-opacity:1; fill:none\" points=\"175.59,921.087 179.03,925.533 182.471,929.96 185.911,934.369 189.351,938.758 221.163,978.446 252.975,1016.52 284.786,1052.97 316.598,1087.81 354.833,1127.54 393.068,1164.93 425.395,1194.72 457.722,1222.85 492.839,1251.5 527.955,1278.19 560.329,1301.04 592.704,1322.22 627.412,1343.07 662.121,1361.99 702.334,1381.51 742.547,1398.44 778.284,1411.32 814.021,1422.15 845.359,1429.97 876.697,1436.23 910.864,1441.25 945.031,1444.42 979.4,1445.72 1013.77,1445.13 1051.77,1442.28 1089.77,1437.12 1125.93,1430.07 1162.08,1420.93 1199.68,1409.22 1237.27,1395.24 1268.92,1381.72 1300.56,1366.61 1339.2,1345.98 1377.84,1322.97 1413.23,1299.79 1448.62,1274.62 1481.31,1249.59 1514,1222.85 1547.11,1194.02 1580.23,1163.44 1617.34,1127.09 1654.45,1088.53 1688.07,1051.7 1721.7,1013.05 1760.2,966.588 1798.7,917.754 1834.35,870.426 1870,821.067 1905.15,770.416 1940.29,717.791 1974.42,664.808 2008.54,609.964 2043.52,551.81 2078.5,491.7 2116.83,423.598 2155.15,353.148 2182.99,300.506 2210.83,246.625 2238.66,191.506 2266.5,135.149 2272.21,123.434 2277.92,111.667 2283.63,99.8476 2289.34,87.9763 \"/>\n",
       "<path clip-path=\"url(#clip370)\" d=\"M186.863 250.738 L463.351 250.738 L463.351 95.2176 L186.863 95.2176  Z\" fill=\"#ffffff\" fill-rule=\"evenodd\" fill-opacity=\"1\"/>\n",
       "<polyline clip-path=\"url(#clip370)\" style=\"stroke:#000000; stroke-linecap:round; stroke-linejoin:round; stroke-width:4; stroke-opacity:1; fill:none\" points=\"186.863,250.738 463.351,250.738 463.351,95.2176 186.863,95.2176 186.863,250.738 \"/>\n",
       "<circle clip-path=\"url(#clip370)\" cx=\"286.444\" cy=\"147.058\" r=\"20.48\" fill=\"#009af9\" fill-rule=\"evenodd\" fill-opacity=\"1\" stroke=\"#000000\" stroke-opacity=\"1\" stroke-width=\"4.55111\"/>\n",
       "<path clip-path=\"url(#clip370)\" d=\"M399.868 166.745 Q398.063 171.375 396.35 172.787 Q394.637 174.199 391.766 174.199 L388.364 174.199 L388.364 170.634 L390.864 170.634 Q392.623 170.634 393.595 169.8 Q394.567 168.967 395.748 165.865 L396.512 163.921 L386.026 138.412 L390.54 138.412 L398.641 158.689 L406.743 138.412 L411.257 138.412 L399.868 166.745 Z\" fill=\"#000000\" fill-rule=\"nonzero\" fill-opacity=\"1\" /><path clip-path=\"url(#clip370)\" d=\"M418.549 160.402 L426.188 160.402 L426.188 134.037 L417.877 135.703 L417.877 131.444 L426.141 129.778 L430.817 129.778 L430.817 160.402 L438.456 160.402 L438.456 164.338 L418.549 164.338 L418.549 160.402 Z\" fill=\"#000000\" fill-rule=\"nonzero\" fill-opacity=\"1\" /><polyline clip-path=\"url(#clip370)\" style=\"stroke:#e26f46; stroke-linecap:round; stroke-linejoin:round; stroke-width:4; stroke-opacity:1; fill:none\" points=\"211.758,198.898 361.13,198.898 \"/>\n",
       "<path clip-path=\"url(#clip370)\" d=\"M399.868 218.585 Q398.063 223.215 396.35 224.627 Q394.637 226.039 391.766 226.039 L388.364 226.039 L388.364 222.474 L390.864 222.474 Q392.623 222.474 393.595 221.64 Q394.567 220.807 395.748 217.705 L396.512 215.761 L386.026 190.252 L390.54 190.252 L398.641 210.529 L406.743 190.252 L411.257 190.252 L399.868 218.585 Z\" fill=\"#000000\" fill-rule=\"nonzero\" fill-opacity=\"1\" /><path clip-path=\"url(#clip370)\" d=\"M421.766 212.242 L438.086 212.242 L438.086 216.178 L416.141 216.178 L416.141 212.242 Q418.803 209.488 423.387 204.858 Q427.993 200.205 429.174 198.863 Q431.419 196.34 432.299 194.604 Q433.201 192.844 433.201 191.155 Q433.201 188.4 431.257 186.664 Q429.336 184.928 426.234 184.928 Q424.035 184.928 421.581 185.692 Q419.151 186.455 416.373 188.006 L416.373 183.284 Q419.197 182.15 421.65 181.571 Q424.104 180.993 426.141 180.993 Q431.512 180.993 434.706 183.678 Q437.9 186.363 437.9 190.854 Q437.9 192.983 437.09 194.905 Q436.303 196.803 434.197 199.395 Q433.618 200.067 430.516 203.284 Q427.414 206.479 421.766 212.242 Z\" fill=\"#000000\" fill-rule=\"nonzero\" fill-opacity=\"1\" /></svg>\n"
      ]
     },
     "execution_count": 6,
     "metadata": {},
     "output_type": "execute_result"
    }
   ],
   "source": [
    "plot((x -> x[1]).(points), (x -> x[2]).(points), seriestype=:scatter)\n",
    "plot!(x -> a_coeffs[1]*x*x + a_coeffs[2]*x + a_coeffs[3])"
   ]
  },
  {
   "cell_type": "markdown",
   "id": "9e6264eb-7931-49e7-a6b6-9ce923b3ef9b",
   "metadata": {},
   "source": [
    "$$ $$\n",
    "$$ $$"
   ]
  },
  {
   "cell_type": "markdown",
   "id": "e3a7a90a-60b9-41a5-9701-06812e593fc1",
   "metadata": {},
   "source": [
    "### Zadanie 2.\n",
    "$$ p(t) = 3t^3 – 7t^2 + 5t – 4 = t(t(3t - 7) + 5) - 4  $$"
   ]
  },
  {
   "cell_type": "markdown",
   "id": "5deabcc0-1936-4564-a4c1-921c6cf4295d",
   "metadata": {},
   "source": [
    "$$ $$\n",
    "$$ $$"
   ]
  },
  {
   "cell_type": "markdown",
   "id": "77319e2b-4255-4373-88d0-87f373392fb8",
   "metadata": {},
   "source": [
    "### Zadanie 3."
   ]
  },
  {
   "cell_type": "markdown",
   "id": "def85ede-a249-43ca-9525-568e7f62f0d1",
   "metadata": {},
   "source": [
    "a) Ewaluując za pomocą schematu Hornera dostajemy $n-1$ mnożeń.\n",
    "\n",
    "b) Aby obliczyć wyraz $L_k$ musi wykonać $n-1$ mnożeń. \\\n",
    "Wyrazów jest $n$ stąd, aby wyliczyć wszystkie wyrazy $L$ \\\n",
    "musimy wykonać $n \\cdot (n − 1)$ mnożeń, a jeszcze dodatkowo \\\n",
    "każdy z wyrazów mnożymy przez rzędną, więc w sumie dostajemy: \\\n",
    "$n \\cdot (n − 1) + n = n^2$ mnożeń.\n",
    "\n",
    "c) Obliczenie $p_k$ zajmuje $k$ mnożeń, a $k \\in \\langle 0, n − 1 \\rangle $, \\\n",
    "stąd ilość mnożeń jaką musimy wykonać to: $\\Sigma^{n−1}_{k=1} k = n^2 ~$."
   ]
  }
 ],
 "metadata": {
  "kernelspec": {
   "display_name": "Julia 1.10.2",
   "language": "julia",
   "name": "julia-1.10"
  },
  "language_info": {
   "file_extension": ".jl",
   "mimetype": "application/julia",
   "name": "julia",
   "version": "1.10.2"
  }
 },
 "nbformat": 4,
 "nbformat_minor": 5
}
